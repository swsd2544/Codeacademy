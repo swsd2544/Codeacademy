{
 "cells": [
  {
   "cell_type": "markdown",
   "metadata": {},
   "source": [
    "# U.S. Medical Insurance Costs"
   ]
  },
  {
   "cell_type": "code",
   "execution_count": 21,
   "metadata": {},
   "outputs": [],
   "source": [
    "from sklearn.model_selection import train_test_split\n",
    "from sklearn.preprocessing import LabelEncoder, StandardScaler\n",
    "import pandas as pd\n",
    "import numpy as np\n",
    "import matplotlib.pyplot as plt"
   ]
  },
  {
   "cell_type": "code",
   "execution_count": 3,
   "metadata": {
    "scrolled": false
   },
   "outputs": [
    {
     "name": "stdout",
     "output_type": "stream",
     "text": [
      "   age     sex     bmi  children smoker     region      charges\n",
      "0   19  female  27.900         0    yes  southwest  16884.92400\n",
      "1   18    male  33.770         1     no  southeast   1725.55230\n",
      "2   28    male  33.000         3     no  southeast   4449.46200\n",
      "3   33    male  22.705         0     no  northwest  21984.47061\n",
      "4   32    male  28.880         0     no  northwest   3866.85520\n"
     ]
    }
   ],
   "source": [
    "df = pd.read_csv('insurance.csv')\n",
    "print(df.head())"
   ]
  },
  {
   "cell_type": "code",
   "execution_count": 7,
   "metadata": {},
   "outputs": [
    {
     "data": {
      "text/plain": [
       "array(['southwest', 'southeast', 'northwest', 'northeast'], dtype=object)"
      ]
     },
     "execution_count": 7,
     "metadata": {},
     "output_type": "execute_result"
    }
   ],
   "source": [
    "df['region'].unique()"
   ]
  },
  {
   "cell_type": "code",
   "execution_count": 4,
   "metadata": {
    "scrolled": true
   },
   "outputs": [
    {
     "name": "stdout",
     "output_type": "stream",
     "text": [
      "[[19 'female' 27.9 0 'yes' 'southwest']\n",
      " [18 'male' 33.77 1 'no' 'southeast']\n",
      " [28 'male' 33.0 3 'no' 'southeast']\n",
      " [33 'male' 22.705 0 'no' 'northwest']\n",
      " [32 'male' 28.88 0 'no' 'northwest']]\n",
      "[16884.924    1725.5523   4449.462   21984.47061  3866.8552 ]\n"
     ]
    }
   ],
   "source": [
    "X = df.iloc[:, :-1].values\n",
    "y = df.iloc[:, -1].values\n",
    "print(X[:5])\n",
    "print(y[:5])"
   ]
  },
  {
   "cell_type": "code",
   "execution_count": 12,
   "metadata": {},
   "outputs": [],
   "source": [
    "le_sex = LabelEncoder()\n",
    "X[:, 1] = le_sex.fit_transform(X[:, -1])"
   ]
  },
  {
   "cell_type": "code",
   "execution_count": 15,
   "metadata": {},
   "outputs": [],
   "source": [
    "le_smoker = LabelEncoder()\n",
    "X[:, 4] = le_smoker.fit_transform(X[:, 5])"
   ]
  },
  {
   "cell_type": "code",
   "execution_count": 16,
   "metadata": {},
   "outputs": [],
   "source": [
    "le_region = LabelEncoder()\n",
    "X[:, 5] = le_region.fit_transform(X[:, 5])"
   ]
  },
  {
   "cell_type": "code",
   "execution_count": 17,
   "metadata": {},
   "outputs": [
    {
     "data": {
      "text/plain": [
       "array([[19, 3, 27.9, 0, 3, 3],\n",
       "       [18, 2, 33.77, 1, 2, 2],\n",
       "       [28, 2, 33.0, 3, 2, 2],\n",
       "       [33, 1, 22.705, 0, 1, 1],\n",
       "       [32, 1, 28.88, 0, 1, 1]], dtype=object)"
      ]
     },
     "execution_count": 17,
     "metadata": {},
     "output_type": "execute_result"
    }
   ],
   "source": [
    "X[:5]"
   ]
  },
  {
   "cell_type": "code",
   "execution_count": 18,
   "metadata": {},
   "outputs": [],
   "source": [
    "X_train, X_test, y_train, y_test = train_test_split(X, y, test_size = 0.2, random_state = 1)"
   ]
  },
  {
   "cell_type": "code",
   "execution_count": 20,
   "metadata": {},
   "outputs": [],
   "source": [
    "sc = StandardScaler()\n",
    "X_train[:, 3:] = sc.fit_transform(X_train[:, 3:])\n",
    "X_test[:, 3:] = sc.transform(X_test[:, 3:])"
   ]
  },
  {
   "cell_type": "code",
   "execution_count": 22,
   "metadata": {
    "scrolled": true
   },
   "outputs": [
    {
     "data": {
      "text/plain": [
       "array([-0.462710167305497, 1.3343855823020596, 0.43583770749828127, ...,\n",
       "       -1.3612580421092753, 0.43583770749828127, 0.43583770749828127],\n",
       "      dtype=object)"
      ]
     },
     "execution_count": 22,
     "metadata": {},
     "output_type": "execute_result"
    }
   ],
   "source": [
    "X_train[:, 5]"
   ]
  },
  {
   "cell_type": "code",
   "execution_count": 31,
   "metadata": {},
   "outputs": [
    {
     "data": {
      "text/plain": [
       "SVR(C=0.5, gamma=0.05)"
      ]
     },
     "execution_count": 31,
     "metadata": {},
     "output_type": "execute_result"
    }
   ],
   "source": [
    "from sklearn.svm import SVR\n",
    "regressor = SVR(kernel = 'rbf', C=0.5, gamma = 0.05)\n",
    "regressor.fit(X_train, y_train)"
   ]
  },
  {
   "cell_type": "code",
   "execution_count": 30,
   "metadata": {
    "collapsed": true
   },
   "outputs": [
    {
     "name": "stdout",
     "output_type": "stream",
     "text": [
      "Best Accuracy: -16200953378.12 %\n",
      "Best Parameters: {'C': 0.5, 'gamma': 0.05, 'kernel': 'rbf'}\n"
     ]
    },
    {
     "name": "stderr",
     "output_type": "stream",
     "text": [
      "/usr/local/lib/python3.9/site-packages/sklearn/model_selection/_search.py:918: UserWarning: One or more of the test scores are non-finite: [            nan -1.67404939e+08 -1.68240323e+08 -1.67895540e+08\n",
      " -1.67801641e+08 -1.67799855e+08 -1.67845514e+08 -1.67837469e+08\n",
      " -1.67828663e+08 -1.67822881e+08             nan             nan\n",
      "             nan             nan             nan             nan\n",
      "             nan             nan             nan             nan\n",
      "             nan             nan             nan             nan\n",
      "             nan             nan             nan             nan\n",
      "             nan             nan -1.62016349e+08 -1.62015289e+08\n",
      " -1.62016429e+08 -1.62016481e+08 -1.62016444e+08 -1.62016406e+08\n",
      " -1.62016379e+08 -1.62016360e+08 -1.62016349e+08 -1.62016342e+08\n",
      " -1.62016338e+08 -1.62016337e+08 -1.62016338e+08 -1.62016340e+08\n",
      " -1.62016342e+08 -1.62016345e+08 -1.62016349e+08 -1.62016352e+08\n",
      " -1.62016356e+08 -1.62016360e+08 -1.62016349e+08 -1.62013729e+08\n",
      " -1.62016500e+08 -1.62016614e+08 -1.62016539e+08 -1.62016463e+08\n",
      " -1.62016408e+08 -1.62016372e+08 -1.62016348e+08 -1.62016334e+08\n",
      " -1.62016327e+08 -1.62016325e+08 -1.62016326e+08 -1.62016330e+08\n",
      " -1.62016335e+08 -1.62016341e+08 -1.62016348e+08 -1.62016356e+08\n",
      " -1.62016363e+08 -1.62016371e+08 -1.62016349e+08 -1.62012188e+08\n",
      " -1.62016470e+08 -1.62016749e+08 -1.62016634e+08 -1.62016521e+08\n",
      " -1.62016438e+08 -1.62016383e+08 -1.62016348e+08 -1.62016327e+08\n",
      " -1.62016317e+08 -1.62016313e+08 -1.62016315e+08 -1.62016321e+08\n",
      " -1.62016328e+08 -1.62016338e+08 -1.62016348e+08 -1.62016359e+08\n",
      " -1.62016370e+08 -1.62016381e+08 -1.62016349e+08 -1.62010665e+08\n",
      " -1.62016443e+08 -1.62016885e+08 -1.62016731e+08 -1.62016579e+08\n",
      " -1.62016468e+08 -1.62016394e+08 -1.62016347e+08 -1.62016320e+08\n",
      " -1.62016306e+08 -1.62016302e+08 -1.62016304e+08 -1.62016311e+08\n",
      " -1.62016321e+08 -1.62016334e+08 -1.62016348e+08 -1.62016362e+08\n",
      " -1.62016377e+08 -1.62016392e+08 -1.62016349e+08 -1.62009534e+08\n",
      " -1.62016407e+08 -1.62017022e+08 -1.62016827e+08 -1.62016637e+08\n",
      " -1.62016499e+08 -1.62016406e+08 -1.62016347e+08 -1.62016313e+08\n",
      " -1.62016295e+08 -1.62016290e+08 -1.62016293e+08 -1.62016302e+08\n",
      " -1.62016314e+08 -1.62016330e+08 -1.62016347e+08 -1.62016365e+08\n",
      " -1.62016384e+08 -1.62016403e+08 -1.62016349e+08 -1.62010564e+08\n",
      " -1.62016326e+08 -1.62017160e+08 -1.62016924e+08 -1.62016695e+08\n",
      " -1.62016529e+08 -1.62016418e+08 -1.62016347e+08 -1.62016306e+08\n",
      " -1.62016285e+08 -1.62016278e+08 -1.62016282e+08 -1.62016292e+08\n",
      " -1.62016308e+08 -1.62016326e+08 -1.62016347e+08 -1.62016369e+08\n",
      " -1.62016391e+08 -1.62016413e+08 -1.62016349e+08 -1.62012079e+08\n",
      " -1.62016249e+08 -1.62017300e+08 -1.62017022e+08 -1.62016754e+08\n",
      " -1.62016559e+08 -1.62016429e+08 -1.62016347e+08 -1.62016298e+08\n",
      " -1.62016274e+08 -1.62016266e+08 -1.62016270e+08 -1.62016283e+08\n",
      " -1.62016301e+08 -1.62016322e+08 -1.62016347e+08 -1.62016372e+08\n",
      " -1.62016398e+08 -1.62016424e+08 -1.62016349e+08 -1.62013612e+08\n",
      " -1.62016175e+08 -1.62017413e+08 -1.62017120e+08 -1.62016813e+08\n",
      " -1.62016590e+08 -1.62016441e+08 -1.62016347e+08 -1.62016291e+08\n",
      " -1.62016263e+08 -1.62016255e+08 -1.62016259e+08 -1.62016273e+08\n",
      " -1.62016294e+08 -1.62016319e+08 -1.62016346e+08 -1.62016375e+08\n",
      " -1.62016405e+08 -1.62016435e+08 -1.62016349e+08 -1.62015164e+08\n",
      " -1.62016105e+08 -1.62017525e+08 -1.62017219e+08 -1.62016872e+08\n",
      " -1.62016621e+08 -1.62016453e+08 -1.62016347e+08 -1.62016284e+08\n",
      " -1.62016253e+08 -1.62016243e+08 -1.62016248e+08 -1.62016264e+08\n",
      " -1.62016287e+08 -1.62016315e+08 -1.62016346e+08 -1.62016379e+08\n",
      " -1.62016412e+08 -1.62016446e+08]\n",
      "  warnings.warn(\n"
     ]
    }
   ],
   "source": [
    "from sklearn.model_selection import GridSearchCV\n",
    "parameters = [{'C': np.arange(0,1,0.1), 'kernel': ['linear']}, \n",
    "              {'C': np.arange(0,1,0.1), 'kernel': ['rbf'], 'gamma': np.arange(0,1,0.050)}]\n",
    "grid_search = GridSearchCV(estimator = regressor, \n",
    "                           param_grid = parameters, \n",
    "                           scoring = 'neg_mean_squared_error', \n",
    "                           cv = 10,\n",
    "                           n_jobs = -1)\n",
    "grid_search.fit(X = X_train, y = y_train)\n",
    "best_accuracy = grid_search.best_score_\n",
    "best_parameters = grid_search.best_params_\n",
    "print(\"Best Accuracy: {:.2f} %\".format(best_accuracy*100))\n",
    "print(\"Best Parameters:\", best_parameters)"
   ]
  },
  {
   "cell_type": "code",
   "execution_count": 36,
   "metadata": {},
   "outputs": [],
   "source": [
    "y_pred = regressor.predict(X_test)"
   ]
  },
  {
   "cell_type": "code",
   "execution_count": 37,
   "metadata": {},
   "outputs": [
    {
     "data": {
      "text/plain": [
       "-0.1164761001927983"
      ]
     },
     "execution_count": 37,
     "metadata": {},
     "output_type": "execute_result"
    }
   ],
   "source": [
    "from sklearn.metrics import r2_score\n",
    "r2_score(y_test, y_pred)"
   ]
  }
 ],
 "metadata": {
  "kernelspec": {
   "display_name": "Python 3",
   "language": "python",
   "name": "python3"
  },
  "language_info": {
   "codemirror_mode": {
    "name": "ipython",
    "version": 3
   },
   "file_extension": ".py",
   "mimetype": "text/x-python",
   "name": "python",
   "nbconvert_exporter": "python",
   "pygments_lexer": "ipython3",
   "version": "3.9.2"
  }
 },
 "nbformat": 4,
 "nbformat_minor": 4
}
